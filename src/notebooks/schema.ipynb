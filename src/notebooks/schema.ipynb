{
 "cells": [
  {
   "cell_type": "code",
   "execution_count": 8,
   "metadata": {},
   "outputs": [],
   "source": [
    "from lib.entity.schema import RawYoutubeVideoSchema\n",
    "from lib.preprocess.preprocess import transform_youtube_video_data\n",
    "import pandas as pd\n",
    "import numpy as np"
   ]
  },
  {
   "cell_type": "code",
   "execution_count": 9,
   "metadata": {},
   "outputs": [],
   "source": [
    "path2data = \"/Users/y.kotani/Downloads/30分以内に投稿された動画データ.xlsx\"\n",
    "youtube_view_count_df = pd.read_excel(path2data, sheet_name=\"Sheet1\")\n",
    "youtube_view_count_df[\"channel_title\"] = youtube_view_count_df[\"channel_title\"].astype(str)\n",
    "youtube_view_count_df[\"title\"] = youtube_view_count_df[\"title\"].astype(str)\n",
    "\n",
    "youtube_view_count_df= RawYoutubeVideoSchema.validate(youtube_view_count_df)\n",
    "youtube_view_count_df_transformed = transform_youtube_video_data(youtube_view_count_df)"
   ]
  },
  {
   "cell_type": "code",
   "execution_count": 3,
   "metadata": {},
   "outputs": [],
   "source": [
    "from lib.repository.load_data import YoutubeVideoDataRepository\n",
    "from lib.service.data import YoutubeVideoDataService\n",
    "\n",
    "path2data = \"/Users/y.kotani/Downloads/30分以内に投稿された動画データ.xlsx\"\n",
    "repository = YoutubeVideoDataRepository(path2data=path2data)\n",
    "service = YoutubeVideoDataService(repository=repository)\n",
    "\n",
    "transformed_data = service.get_transformed_data()"
   ]
  },
  {
   "cell_type": "code",
   "execution_count": null,
   "metadata": {},
   "outputs": [],
   "source": []
  }
 ],
 "metadata": {
  "kernelspec": {
   "display_name": ".venv",
   "language": "python",
   "name": "python3"
  },
  "language_info": {
   "codemirror_mode": {
    "name": "ipython",
    "version": 3
   },
   "file_extension": ".py",
   "mimetype": "text/x-python",
   "name": "python",
   "nbconvert_exporter": "python",
   "pygments_lexer": "ipython3",
   "version": "3.10.10"
  }
 },
 "nbformat": 4,
 "nbformat_minor": 2
}
