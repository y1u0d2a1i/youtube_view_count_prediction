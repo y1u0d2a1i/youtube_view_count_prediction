{
 "cells": [
  {
   "cell_type": "markdown",
   "metadata": {},
   "source": [
    "# データの取得と前処理"
   ]
  },
  {
   "cell_type": "code",
   "execution_count": 1,
   "metadata": {},
   "outputs": [],
   "source": [
    "from lib.repository.load_data import YoutubeVideoDataRepository\n",
    "from lib.service.data import YoutubeVideoDataService\n",
    "\n",
    "path2data = \"/Users/y.kotani/Downloads/30分以内に投稿された動画データ.xlsx\"\n",
    "repository = YoutubeVideoDataRepository(path2data=path2data)\n",
    "service = YoutubeVideoDataService(repository=repository)\n",
    "\n",
    "transformed_data = service.get_transformed_data()"
   ]
  },
  {
   "cell_type": "markdown",
   "metadata": {},
   "source": [
    "# モデルの訓練"
   ]
  },
  {
   "cell_type": "code",
   "execution_count": 5,
   "metadata": {},
   "outputs": [
    {
     "data": {
      "text/plain": [
       "Index(['channel_name', 'channel_country', 'channel_default_language',\n",
       "       'subscriber_count', 'video_count', 'channel_topic_ids',\n",
       "       'channel_topic_catrgories', 'published_at', 'channel_id', 'title',\n",
       "       'description', 'thumbnail_url', 'channel_title', 'tags', 'category_id',\n",
       "       'default_language', 'duration', 'view_count', 'favorite_count',\n",
       "       'comment_count', 'like_count', 'video_id', 'extracted_at',\n",
       "       'minutes_diff', 'day_of_week_str', 'hour', 'sin_hour', 'cos_hour',\n",
       "       'duration_min'],\n",
       "      dtype='object')"
      ]
     },
     "execution_count": 5,
     "metadata": {},
     "output_type": "execute_result"
    }
   ],
   "source": [
    "transformed_data.columns"
   ]
  },
  {
   "cell_type": "code",
   "execution_count": null,
   "metadata": {},
   "outputs": [],
   "source": []
  }
 ],
 "metadata": {
  "kernelspec": {
   "display_name": ".venv",
   "language": "python",
   "name": "python3"
  },
  "language_info": {
   "codemirror_mode": {
    "name": "ipython",
    "version": 3
   },
   "file_extension": ".py",
   "mimetype": "text/x-python",
   "name": "python",
   "nbconvert_exporter": "python",
   "pygments_lexer": "ipython3",
   "version": "3.10.10"
  }
 },
 "nbformat": 4,
 "nbformat_minor": 2
}
